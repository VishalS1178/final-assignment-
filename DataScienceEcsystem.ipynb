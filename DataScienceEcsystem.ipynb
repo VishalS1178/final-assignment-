{
 "cells": [
  {
   "cell_type": "markdown",
   "id": "655b5fbf-3f8d-4bd4-905f-0f380099e932",
   "metadata": {},
   "source": [
    "# H1 : Data Science Tools And Ecosystem"
   ]
  },
  {
   "cell_type": "markdown",
   "id": "4117d3d9-8d8b-4e81-9825-adfc6162d745",
   "metadata": {},
   "source": [
    "In this notebook, Data Science Tools & Ecosystem are summarized"
   ]
  },
  {
   "cell_type": "markdown",
   "id": "e12b4028-856c-417d-8c54-2ab219e91634",
   "metadata": {},
   "source": [
    "**Objectives:**\n",
    "- Popular languages that Data Scientists use\n",
    "- Popular libraries used by Data Scientists\n",
    "- Data Science Tools\n",
    "- Evaluationg arthmetic expressions in python\n",
    "- Arthmetic Expressions in Python"
   ]
  },
  {
   "cell_type": "markdown",
   "id": "7610dd85-ac6d-4be6-9d95-f90fa96077ad",
   "metadata": {},
   "source": [
    "Some of the popular languages that Data Scientists use are :"
   ]
  },
  {
   "cell_type": "markdown",
   "id": "080febdf-6326-4d3d-963e-87cd025a9115",
   "metadata": {},
   "source": [
    "1. Python\n",
    "2. SQL\n",
    "3. R\n",
    "4. Java"
   ]
  },
  {
   "cell_type": "markdown",
   "id": "25970bf5-e16d-4397-ac8b-486d2b5c88df",
   "metadata": {},
   "source": [
    "Some of the commonly used libraries used by Data Scientists include :"
   ]
  },
  {
   "cell_type": "markdown",
   "id": "087a5abf-7f3f-42e5-9326-63653581dcb1",
   "metadata": {},
   "source": [
    "1. NumPy\n",
    "2. Keras\n",
    "3. Pandas"
   ]
  },
  {
   "cell_type": "markdown",
   "id": "29b49e8c-9af2-49e8-b8be-8f2a8f59dcb3",
   "metadata": {},
   "source": [
    "| Data Science Tools |\n",
    "| ------- |\n",
    "| Jupyter Notebook |\n",
    "| RStudio |\n",
    "| PyCharm |"
   ]
  },
  {
   "cell_type": "markdown",
   "id": "8f2ab3ea-b4ff-4bf8-8fa5-d06aa5308f10",
   "metadata": {},
   "source": [
    "### H3: Below are a few examples of evaluating arithmetic expressions in python"
   ]
  },
  {
   "cell_type": "code",
   "execution_count": 1,
   "id": "21077f7a-9e08-4087-b3c3-0116c5382db8",
   "metadata": {},
   "outputs": [
    {
     "data": {
      "text/plain": [
       "17"
      ]
     },
     "execution_count": 1,
     "metadata": {},
     "output_type": "execute_result"
    }
   ],
   "source": [
    "#This is a simple arthimatic expression to multiply then add integers.\n",
    "(3*4)+5"
   ]
  },
  {
   "cell_type": "code",
   "execution_count": 2,
   "id": "f01268b2-a8f1-4222-9d86-89d5f212ffdb",
   "metadata": {},
   "outputs": [
    {
     "data": {
      "text/plain": [
       "3.3333333333333335"
      ]
     },
     "execution_count": 2,
     "metadata": {},
     "output_type": "execute_result"
    }
   ],
   "source": [
    "#This will convert 200 minutes to hours by dividing by 60 :\n",
    "200/60"
   ]
  },
  {
   "cell_type": "markdown",
   "id": "8a21a173-8e7f-4b15-8b55-922c6edb75a1",
   "metadata": {},
   "source": [
    "## H2 Author"
   ]
  },
  {
   "cell_type": "markdown",
   "id": "5ada6aa3-2361-451b-89c2-6baa77a8ab0e",
   "metadata": {},
   "source": [
    "VISHAL S"
   ]
  },
  {
   "cell_type": "code",
   "execution_count": null,
   "id": "bc19f261-27d2-4edd-bb43-6d2a549b7ec0",
   "metadata": {},
   "outputs": [],
   "source": []
  }
 ],
 "metadata": {
  "kernelspec": {
   "display_name": "Python 3 (ipykernel)",
   "language": "python",
   "name": "python3"
  },
  "language_info": {
   "codemirror_mode": {
    "name": "ipython",
    "version": 3
   },
   "file_extension": ".py",
   "mimetype": "text/x-python",
   "name": "python",
   "nbconvert_exporter": "python",
   "pygments_lexer": "ipython3",
   "version": "3.12.8"
  }
 },
 "nbformat": 4,
 "nbformat_minor": 5
}
